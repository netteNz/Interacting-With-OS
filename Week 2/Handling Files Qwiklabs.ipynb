{
 "cells": [
  {
   "cell_type": "markdown",
   "id": "162b0ca9-f276-4b00-9a60-6b2d571df236",
   "metadata": {},
   "source": [
    "# Handling Files\n",
    "\n",
    "## Introduction\n",
    "\n",
    "For this lab, imagine you are an IT Specialist at a medium-sized company. The Human Resources Department at your company wants you to find out how many people are in each department. You need to write a Python script that reads a CSV file containing a list of the employees in the organization, counts how many people are in each department, and then generates a report using this information. The output of this script will be a plain text file. We will guide you through each step of the lab."
   ]
  },
  {
   "cell_type": "markdown",
   "id": "4c7ccab2-fdbc-42fb-aebc-6b0d46c4309f",
   "metadata": {},
   "source": [
    "### Convert employee data to dictionary"
   ]
  },
  {
   "cell_type": "markdown",
   "id": "1305fb8c-00a7-49bc-8a73-c0fbc1ecf766",
   "metadata": {},
   "source": [
    "The goal of the script is to read the CSV file and generate a report with the total number of people in each department. To achieve this, we will divide the script into three functions.\n",
    "\n",
    "Let's start with the first function: read_employees(). This function receives a CSV file as a parameter and returns a list of dictionaries from that file. For this, we will use the CSV module.\n",
    "\n",
    "The CSV module uses classes to read and write tabular data in CSV format. The CSV library allows us to both read from and write to CSV files.\n",
    "\n",
    "Now, import the CSV module.\n",
    "\n",
    "```python\n",
    "import csv\n",
    "```\n",
    "\n",
    "Define the function read_employees. This function takes file_location (path to employees.csv) as a parameter.\n",
    "\n",
    "```python\n",
    "def read_employees(csv_file_location):\n",
    "```\n",
    "\n",
    "Open the CSV file by calling open and then csv.DictReader.\n",
    "\n",
    "DictReader creates an object that operates like a regular reader (an object that iterates over lines in the given CSV file), but also maps the information it reads into a dictionary where keys are given by the optional fieldnames parameter. If we omit the fieldnames parameter, the values in the first row of the CSV file will be used as the keys. So, in this case, the first line of the CSV file has the keys and so there's no need to pass fieldnames as a parameter.\n",
    "\n",
    "We also need to pass a dialect as a parameter to this function. There isn't a well-defined standard for comma-separated value files, so the parser needs to be flexible. Flexibility here means that there are many parameters to control how csv parses or writes data. Rather than passing each of these parameters to the reader and writer separately, we group them together conveniently into a dialect object.\n",
    "\n",
    "Dialect classes can be registered by name so that callers of the CSV module don't need to know the parameter settings in advance. We will now register a dialect empDialect.\n",
    "\n",
    "```python\n",
    "csv.register_dialect('empDialect', skipinitialspace=True, strict=True)\n",
    "```"
   ]
  },
  {
   "cell_type": "code",
   "execution_count": null,
   "id": "2cc0522d-baaf-4615-af36-48cc85f07952",
   "metadata": {},
   "outputs": [],
   "source": [
    "import csv\n",
    "\n",
    "def read_employees(csv_file_location):\n",
    "    csv.register_dialect('empDialect', skipinitialspace=True, strict=True)\n",
    "    employee_file = csv.DictReader(open(csv_file_location), dialect = 'empDialect')\n",
    "    employee_list = []\n",
    "    for data in employee_file:\n",
    "        employee_list.append(data)\n",
    "    return employee_list\n",
    "\n",
    "def process_data(employee_list):\n",
    "    department_list = []\n",
    "    for employee_data in employee_list:\n",
    "        department_list.append(employee_data['Department'])\n",
    "    department_data = {}\n",
    "    for department_name in set(department_list):\n",
    "        department_data[department_name] = department_list.count(department_name)\n",
    "    return department_data\n",
    "\n",
    "def write_report(dictionary, report_file):\n",
    "    with open(report_file, \"w+\") as f:\n",
    "        for k in sorted(dictionary):\n",
    "            f.write(str(k)+':'+str(dictionary[k])+'\\n')\n",
    "        f.close()\n",
    "\n",
    "employee_list = read_employees('D:\\python\\employees.csv')\n",
    "#print(employee_list)\n",
    "dictionary = process_data(employee_list)\n",
    "print(dictionary)\n",
    "write_report(dictionary, 'D:\\python\\report.txt')"
   ]
  }
 ],
 "metadata": {
  "kernelspec": {
   "display_name": "Python 3 (ipykernel)",
   "language": "python",
   "name": "python3"
  },
  "language_info": {
   "codemirror_mode": {
    "name": "ipython",
    "version": 3
   },
   "file_extension": ".py",
   "mimetype": "text/x-python",
   "name": "python",
   "nbconvert_exporter": "python",
   "pygments_lexer": "ipython3",
   "version": "3.10.4"
  },
  "widgets": {
   "application/vnd.jupyter.widget-state+json": {
    "state": {},
    "version_major": 2,
    "version_minor": 0
   }
  }
 },
 "nbformat": 4,
 "nbformat_minor": 5
}
