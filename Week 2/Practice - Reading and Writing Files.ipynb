{
 "cells": [
  {
   "cell_type": "markdown",
   "id": "9249446e-3932-423c-8ca2-cfe35e427bf0",
   "metadata": {},
   "source": [
    "# Practice Notebook: Reading and Writing Files"
   ]
  },
  {
   "cell_type": "markdown",
   "id": "8f83a3f1-ffa7-4c4e-8d30-4100a9661a9d",
   "metadata": {},
   "source": [
    "In this exercise, we will test your knowledge of reading and writing files by playing around with some text files. \n",
    "<br><br>\n",
    "Let's say we have a text file containing current visitors at a hotel.  We'll call it, *guests.txt*.  Run the following code to create the file.  The file will automatically populate with each initial guest's first name on its own line."
   ]
  },
  {
   "cell_type": "code",
   "execution_count": 1,
   "id": "107eec76-6cb8-4e9d-be8b-7b52def05410",
   "metadata": {},
   "outputs": [],
   "source": [
    "guests = open(\"guests.txt\", \"w\")\n",
    "initial_guests = [\"Bob\", \"Andrea\", \"Manuel\", \"Polly\", \"Khalid\"]\n",
    "\n",
    "for i in initial_guests:\n",
    "    guests.write(i + \"\\n\")\n",
    "    \n",
    "guests.close()"
   ]
  },
  {
   "cell_type": "markdown",
   "id": "f518b26b-e2c0-43f0-99cb-e4a8a4194e59",
   "metadata": {},
   "source": [
    "No output is generated for the above code cell.  To check the contents of the newly created *guests.txt* file, run the following code."
   ]
  },
  {
   "cell_type": "code",
   "execution_count": 2,
   "id": "65bb030c-e310-4b27-ae97-c6b4d39db1c2",
   "metadata": {},
   "outputs": [
    {
     "name": "stdout",
     "output_type": "stream",
     "text": [
      "Bob\n",
      "\n",
      "Andrea\n",
      "\n",
      "Manuel\n",
      "\n",
      "Polly\n",
      "\n",
      "Khalid\n",
      "\n"
     ]
    }
   ],
   "source": [
    "with open(\"guests.txt\") as guests:\n",
    "    for line in guests:\n",
    "        print(line)"
   ]
  },
  {
   "cell_type": "markdown",
   "id": "a7292ba3-d49e-40bf-a0ea-1c631142a80c",
   "metadata": {},
   "source": [
    "The output shows that our guests.txt file is correctly populated with each initial guest's first name on its own line. Cool!\n",
    "\n",
    "Now suppose we want to update our file as guests check in and out. Fill in the missing code in the following cell to add guests to the guests.txt file as they check in."
   ]
  },
  {
   "cell_type": "code",
   "execution_count": 3,
   "id": "1f98e437-4281-48e3-8043-c6f093e38eda",
   "metadata": {},
   "outputs": [],
   "source": [
    "new_guests = [\"Sam\", \"Danielle\", \"Jacob\"]\n",
    "\n",
    "with open(\"guests.txt\", \"a\") as guests:\n",
    "    for i in new_guests:\n",
    "        guests.write(i + \"\\n\")\n",
    "\n",
    "guests.close()"
   ]
  },
  {
   "cell_type": "markdown",
   "id": "a2455157-cfd7-4609-b9fc-86664ed8f960",
   "metadata": {},
   "source": [
    "To check whether your code correctly added the new guests to the *guests.txt* file, run the following cell."
   ]
  },
  {
   "cell_type": "code",
   "execution_count": 4,
   "id": "e834a054-5b7a-4015-8fc7-4ed5eeed1488",
   "metadata": {},
   "outputs": [
    {
     "name": "stdout",
     "output_type": "stream",
     "text": [
      "Bob\n",
      "\n",
      "Andrea\n",
      "\n",
      "Manuel\n",
      "\n",
      "Polly\n",
      "\n",
      "Khalid\n",
      "\n",
      "Sam\n",
      "\n",
      "Danielle\n",
      "\n",
      "Jacob\n",
      "\n"
     ]
    }
   ],
   "source": [
    "with open(\"guests.txt\") as guests:\n",
    "    for line in guests:\n",
    "        print(line)"
   ]
  },
  {
   "cell_type": "markdown",
   "id": "d3441344-514b-4ae4-a802-33180328d083",
   "metadata": {},
   "source": [
    "The current names in the *guests.txt* file should be:  Bob, Andrea, Manuel, Polly, Khalid, Sam, Danielle and Jacob.\n",
    "<br><br>\n",
    "Was the *guests.txt* file correctly appended with the new guests? If not, go back and edit your code making sure to fill in the gaps appropriately so that the new guests are correctly added to the *guests.txt* file.  Once the new guests are successfully added, you have filled in the missing code correctly.  Great!\n",
    "<br><br>\n",
    "Now let's remove the guests that have checked out already.  There are several ways to do this, however, the method we will choose for this exercise is outlined as follows:\n",
    "1. Open the file in \"read\" mode.\n",
    "2. Iterate over each line in the file and put each guest's name into a Python list.\n",
    "3. Open the file once again in \"write\" mode.\n",
    "4. Add each guest's name in the Python list to the file one by one.\n",
    "\n",
    "<br>\n",
    "Ready? Fill in the missing code in the following cell to remove the guests that have checked out already."
   ]
  },
  {
   "cell_type": "code",
   "execution_count": 5,
   "id": "b7472f01-1be5-4f15-8312-720e1dc4817a",
   "metadata": {},
   "outputs": [],
   "source": [
    "checked_out=[\"Andrea\", \"Manuel\", \"Khalid\"]\n",
    "temp_list=[]\n",
    "\n",
    "with open(\"guests.txt\", \"r\") as guests:\n",
    "    for g in guests:\n",
    "        temp_list.append(g.strip())\n",
    "\n",
    "with open(\"guests.txt\", \"w+\") as guests:\n",
    "    for name in temp_list:\n",
    "        if name not in checked_out:\n",
    "            guests.write(name + \"\\n\")"
   ]
  },
  {
   "cell_type": "markdown",
   "id": "3144e545-5e8a-409e-b3f9-aab6a3ddc4e5",
   "metadata": {},
   "source": [
    "To check whether your code correctly removed the checked out guests from the *guests.txt* file, run the following cell."
   ]
  },
  {
   "cell_type": "code",
   "execution_count": 6,
   "id": "1891e021-7475-4a9e-89ac-b00fab6482ce",
   "metadata": {},
   "outputs": [
    {
     "name": "stdout",
     "output_type": "stream",
     "text": [
      "Bob\n",
      "\n",
      "Polly\n",
      "\n",
      "Sam\n",
      "\n",
      "Danielle\n",
      "\n",
      "Jacob\n",
      "\n"
     ]
    }
   ],
   "source": [
    "with open(\"guests.txt\") as guests:\n",
    "    for line in guests:\n",
    "        print(line)"
   ]
  },
  {
   "cell_type": "markdown",
   "id": "b8e8bbce-7358-4d93-87df-9abb077a89c2",
   "metadata": {},
   "source": [
    "The current names in the *guests.txt* file should be:  Bob, Polly, Sam, Danielle and Jacob.\n",
    "<br><br>\n",
    "Were the names of the checked out guests correctly removed from the *guests.txt* file? If not, go back and edit your code making sure to fill in the gaps appropriately so that the checked out guests are correctly removed from the *guests.txt* file. Once the checked out guests are successfully removed, you have filled in the missing code correctly. Awesome!\n",
    "<br><br>\n",
    "Now let's check whether Bob and Andrea are still checked in.  How could we do this? We'll just read through each line in the file to see if their name is in there.  Run the following code to check whether Bob and Andrea are still checked in."
   ]
  },
  {
   "cell_type": "code",
   "execution_count": 7,
   "id": "bd079750-f169-4791-b39a-775adba3e7c8",
   "metadata": {},
   "outputs": [
    {
     "name": "stdout",
     "output_type": "stream",
     "text": [
      "Bob is checked in\n",
      "Andrea is not checked in\n"
     ]
    }
   ],
   "source": [
    "guests_to_check = ['Bob', 'Andrea']\n",
    "checked_in = []\n",
    "\n",
    "with open(\"guests.txt\",\"r\") as guests:\n",
    "    for g in guests:\n",
    "        checked_in.append(g.strip())\n",
    "    for check in guests_to_check:\n",
    "        if check in checked_in:\n",
    "            print(\"{} is checked in\".format(check))\n",
    "        else:\n",
    "            print(\"{} is not checked in\".format(check))"
   ]
  },
  {
   "cell_type": "code",
   "execution_count": null,
   "id": "dd90afab-5373-4486-b3cf-52abd1304de7",
   "metadata": {},
   "outputs": [],
   "source": []
  }
 ],
 "metadata": {
  "kernelspec": {
   "display_name": "Python 3 (ipykernel)",
   "language": "python",
   "name": "python3"
  },
  "language_info": {
   "codemirror_mode": {
    "name": "ipython",
    "version": 3
   },
   "file_extension": ".py",
   "mimetype": "text/x-python",
   "name": "python",
   "nbconvert_exporter": "python",
   "pygments_lexer": "ipython3",
   "version": "3.10.4"
  },
  "widgets": {
   "application/vnd.jupyter.widget-state+json": {
    "state": {},
    "version_major": 2,
    "version_minor": 0
   }
  }
 },
 "nbformat": 4,
 "nbformat_minor": 5
}
