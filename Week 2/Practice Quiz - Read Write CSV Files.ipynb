{
 "cells": [
  {
   "cell_type": "markdown",
   "id": "7807a422-8440-4cbf-8630-44e9e110ee13",
   "metadata": {},
   "source": [
    "# Practice Quiz: Reading & Writing CSV Files"
   ]
  },
  {
   "cell_type": "code",
   "execution_count": 5,
   "id": "3e6b15ef-a51d-4688-91ba-5f75b676c6ba",
   "metadata": {},
   "outputs": [
    {
     "name": "stdout",
     "output_type": "stream",
     "text": [
      "a pink carnation is annual\n",
      "a yellow daffodil is perennial\n",
      "a blue iris is perennial\n",
      "a red poinsettia is perennial\n",
      "a yellow sunflower is annual\n",
      "\n"
     ]
    }
   ],
   "source": [
    "\"\"\"Question 1.\n",
    "We're working with a list of flowers and some information about each one. The create_file function writes this information to a CSV file. \n",
    "The contents_of_file function reads this file into records and returns the information in a nicely formatted block. \n",
    "Fill in the gaps of the contents_of_file function to turn the data in the CSV file into a dictionary using DictReader.\"\"\"\n",
    "\n",
    "import os\n",
    "import csv\n",
    "\n",
    "# Create a file with data in it\n",
    "def create_file(filename):\n",
    "    with open(filename, \"w\") as file:\n",
    "        file.write(\"name,color,type\\n\")\n",
    "        file.write(\"carnation,pink,annual\\n\")\n",
    "        file.write(\"daffodil,yellow,perennial\\n\")\n",
    "        file.write(\"iris,blue,perennial\\n\")\n",
    "        file.write(\"poinsettia,red,perennial\\n\")\n",
    "        file.write(\"sunflower,yellow,annual\\n\")\n",
    "\n",
    "# Read the file contents and format the information about each row\n",
    "def contents_of_file(filename):\n",
    "    return_string = \"\"\n",
    "    \n",
    "    # Call the function to create the file\n",
    "    create_file(filename)\n",
    "    \n",
    "    # Open the file\n",
    "    with open(filename) as file:\n",
    "        f = csv.DictReader(file) # Read the rows of the file into a dictionary\n",
    "        # Process each item of the dictionary\n",
    "        for row in f:\n",
    "            return_string += \"a {} {} is {}\\n\".format(row[\"color\"], row[\"name\"], row[\"type\"])\n",
    "    return return_string\n",
    "\n",
    "#Call the function\n",
    "print(contents_of_file(\"flowers.csv\"))"
   ]
  },
  {
   "cell_type": "code",
   "execution_count": 10,
   "id": "9b136567-1b11-443c-8543-a9ea60e5b7af",
   "metadata": {},
   "outputs": [
    {
     "name": "stdout",
     "output_type": "stream",
     "text": [
      "a pink carnation is annual\n",
      "a yellow daffodil is perennial\n",
      "a blue iris is perennial\n",
      "a red poinsettia is perennial\n",
      "a yellow sunflower is annual\n",
      "\n"
     ]
    }
   ],
   "source": [
    "\"\"\"Question 2.\n",
    "Using the CSV file of flowers again, fill in the gaps of the contents_of_file function to process the data without turning it into a dictionary. \n",
    "How do you skip over the header record with the field names?\"\"\"\n",
    "\n",
    "import os\n",
    "import csv\n",
    "\n",
    "# Create a file with data in it\n",
    "def create_file(filename):\n",
    "    with open(filename, \"w\") as file:\n",
    "        file.write(\"name,color,type\\n\")\n",
    "        file.write(\"carnation,pink,annual\\n\")\n",
    "        file.write(\"daffodil,yellow,perennial\\n\")\n",
    "        file.write(\"iris,blue,perennial\\n\")\n",
    "        file.write(\"poinsettia,red,perennial\\n\")\n",
    "        file.write(\"sunflower,yellow,annual\\n\")\n",
    "\n",
    "# Read the file contents and format the information about each row\n",
    "def contents_of_file(filename):\n",
    "    return_string = \"\"\n",
    "    \n",
    "    # Call the function to create the file \n",
    "    create_file(filename)\n",
    "    \n",
    "    # Open the file\n",
    "    with open(filename, 'r') as file:\n",
    "        # Read the rows of the file\n",
    "        rows = csv.DictReader(file)\n",
    "        \n",
    "        # Process each row\n",
    "        for row in rows:\n",
    "            name, color, type = row\n",
    "        # Format the return string for data rows only\n",
    "            return_string += \"a {} {} is {}\\n\".format(row[\"color\"], row[\"name\"], row[\"type\"])        \n",
    "        return return_string\n",
    "\n",
    "#Call the function\n",
    "print(contents_of_file(\"flowers.csv\"))"
   ]
  },
  {
   "cell_type": "code",
   "execution_count": null,
   "id": "5786c5f3-aff0-4cf3-91bd-4b41bfd32ff2",
   "metadata": {},
   "outputs": [],
   "source": []
  }
 ],
 "metadata": {
  "kernelspec": {
   "display_name": "Python 3 (ipykernel)",
   "language": "python",
   "name": "python3"
  },
  "language_info": {
   "codemirror_mode": {
    "name": "ipython",
    "version": 3
   },
   "file_extension": ".py",
   "mimetype": "text/x-python",
   "name": "python",
   "nbconvert_exporter": "python",
   "pygments_lexer": "ipython3",
   "version": "3.10.4"
  },
  "widgets": {
   "application/vnd.jupyter.widget-state+json": {
    "state": {},
    "version_major": 2,
    "version_minor": 0
   }
  }
 },
 "nbformat": 4,
 "nbformat_minor": 5
}
