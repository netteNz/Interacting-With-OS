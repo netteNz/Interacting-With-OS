{
 "cells": [
  {
   "cell_type": "markdown",
   "id": "a52c270e-7a1f-4124-821c-ee1a64f07627",
   "metadata": {},
   "source": [
    "# Reading CSV Files"
   ]
  },
  {
   "cell_type": "markdown",
   "id": "81c7bb82-9669-4b0c-8cdd-b1e338a1ccff",
   "metadata": {},
   "source": [
    "```python\n",
    "import csv\n",
    "f = open(\"file.csv\")\n",
    "file = csv.reader(f)\n",
    "```"
   ]
  },
  {
   "cell_type": "markdown",
   "id": "6d7b9747-3072-426c-978c-d39a62e87234",
   "metadata": {},
   "source": [
    "```python\n",
    "for row in file:\n",
    "    name, phone, role = row\n",
    "    print(\"Name: {}, Phone: {}, Role: {}\".format(name, phone, role))\n",
    "```"
   ]
  },
  {
   "cell_type": "markdown",
   "id": "ff53f58e-ae42-4405-a07c-2c92b307276c",
   "metadata": {},
   "source": [
    "## Generating CSV Files"
   ]
  },
  {
   "cell_type": "code",
   "execution_count": 2,
   "id": "a8c04f05-dc1a-4a6e-b3e5-68c2bc9eaf57",
   "metadata": {},
   "outputs": [],
   "source": [
    "hosts = [[\"workstation.local\", \"192.168.25.46\"], [\"webserver.cloud\", \"10.2.5.6\"]]\n",
    "\n",
    "with open('hosts.csv', 'w') as hosts_csv:\n",
    "    writer = csv.writer(hosts_csv)\n",
    "    writer.writerows(hosts)"
   ]
  },
  {
   "cell_type": "markdown",
   "id": "205b9caf-c3fd-4096-8469-05e98f08c726",
   "metadata": {},
   "source": [
    "### Reading and Writing CSV Files with Dictionaries"
   ]
  },
  {
   "cell_type": "markdown",
   "id": "57793662-0329-4b84-b56a-bf423fedaa30",
   "metadata": {},
   "source": [
    "```python\n",
    "with open('software.csv', 'w') as software:\n",
    "    reader = csv.DictReader(software)\n",
    "    for row in reader:\n",
    "        print((\"{} has {} users\".format(row[\"name\"], row[\"users\"]))\n",
    "```"
   ]
  },
  {
   "cell_type": "markdown",
   "id": "cf86817d-3e24-41ed-8462-07b004daeca7",
   "metadata": {},
   "source": [
    "#### CSV Cheat Sheets\n",
    "https://docs.python.org/3/library/csv.html<br>\n",
    "https://realpython.com/python-csv/"
   ]
  },
  {
   "cell_type": "code",
   "execution_count": null,
   "id": "2426c08c-b107-4f28-97b5-05a0deaf88d5",
   "metadata": {},
   "outputs": [],
   "source": []
  }
 ],
 "metadata": {
  "kernelspec": {
   "display_name": "Python 3 (ipykernel)",
   "language": "python",
   "name": "python3"
  },
  "language_info": {
   "codemirror_mode": {
    "name": "ipython",
    "version": 3
   },
   "file_extension": ".py",
   "mimetype": "text/x-python",
   "name": "python",
   "nbconvert_exporter": "python",
   "pygments_lexer": "ipython3",
   "version": "3.10.4"
  },
  "widgets": {
   "application/vnd.jupyter.widget-state+json": {
    "state": {},
    "version_major": 2,
    "version_minor": 0
   }
  }
 },
 "nbformat": 4,
 "nbformat_minor": 5
}
