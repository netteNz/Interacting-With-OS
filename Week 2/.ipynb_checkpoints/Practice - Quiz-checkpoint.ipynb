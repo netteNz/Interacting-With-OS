{
 "cells": [
  {
   "cell_type": "code",
   "execution_count": 4,
   "id": "722d0771-0f40-413c-ae57-5945748822cf",
   "metadata": {},
   "outputs": [
    {
     "name": "stdout",
     "output_type": "stream",
     "text": [
      "\n",
      "31\n"
     ]
    }
   ],
   "source": [
    "\"\"\"Question 1.\n",
    "The create_python_script function creates a new python script in the current working directory, \n",
    "adds the line of comments to it declared by the 'comments' variable, and returns the size of the new file. \n",
    "Fill in the gaps to create a script called \"program.py\".\"\"\"\n",
    "\n",
    "import os\n",
    "\n",
    "def create_python_script(filename):\n",
    "    comments = \"# Start of a new Python program\"\n",
    "    with open(filename, 'w+') as file:\n",
    "        file.write(comments)\n",
    "        print(file.read())\n",
    "        filesize = os.path.getsize(filename)\n",
    "    return(filesize)\n",
    "\n",
    "print(create_python_script(\"program.py\"))"
   ]
  },
  {
   "cell_type": "code",
   "execution_count": 5,
   "id": "c37bcce9-f350-47f2-b9cb-79e7b22c9a33",
   "metadata": {},
   "outputs": [
    {
     "name": "stdout",
     "output_type": "stream",
     "text": [
      "['script.py']\n"
     ]
    }
   ],
   "source": [
    "\"\"\"Question 2.\n",
    "The new_directory function creates a new directory inside the current working directory, \n",
    "then creates a new empty file inside the new directory, and returns the list of files in that directory. \n",
    "Fill in the gaps to create a file \"script.py\" in the directory \"PythonPrograms\". \"\"\"\n",
    "\n",
    "import os\n",
    "\n",
    "def new_directory(directory, filename):\n",
    "    # Before creating a new directory, check to see if it already exists\n",
    "    if os.path.isdir(directory) == False:\n",
    "        os.mkdir(directory)\n",
    "        \n",
    "    # Create the new file inside of the new directory\n",
    "    os.chdir(directory)\n",
    "    with open(filename, \"w\") as file:\n",
    "        file.write(\"\")\n",
    "    \n",
    "    # Return the list of files in the new directory\n",
    "    os.chdir('..')\n",
    "    return os.listdir(directory)\n",
    "\n",
    "print(new_directory(\"PythonPrograms\", \"script.py\"))"
   ]
  },
  {
   "cell_type": "code",
   "execution_count": 8,
   "id": "934e7f30-88be-4bd9-85a9-1cdbe3fa3a91",
   "metadata": {},
   "outputs": [
    {
     "name": "stdout",
     "output_type": "stream",
     "text": [
      "2022-08-25\n"
     ]
    }
   ],
   "source": [
    "\"\"\"Question 4.\n",
    "The file_date function creates a new file in the current working directory, \n",
    "checks the date that the file was modified, and returns just the date portion of the timestamp in the format of yyyy-mm-dd. \n",
    "Fill in the gaps to create a file called \"newfile.txt\" and check the date that it was modified.\"\"\"\n",
    "\n",
    "import os\n",
    "import datetime\n",
    "\n",
    "def file_date(filename):\n",
    "    # Create the file in the current directory\n",
    "    with open(filename, 'w') as file:\n",
    "        pass\n",
    "    timestamp = os.path.getmtime(filename)\n",
    "    # Convert the timestamp into a readable format, then into a string\n",
    "    timestamp = datetime.datetime.fromtimestamp(timestamp)\n",
    "    \n",
    "    # Return just the date portion\n",
    "    # Hint: how many characters are in “yyyy-mm-dd”?\n",
    "    return (\"{}\".format(timestamp.strftime(\"%Y-%m-%d\")))\n",
    "\n",
    "print(file_date(\"newfile.txt\")) \n",
    "# Should be today's date in the format of yyyy-mm-dd"
   ]
  },
  {
   "cell_type": "code",
   "execution_count": 9,
   "id": "a0a50c90-580b-4588-8157-01185f7f2431",
   "metadata": {},
   "outputs": [
    {
     "name": "stdout",
     "output_type": "stream",
     "text": [
      "F:\\Projects\\Coursera\\Interacting With OS\n"
     ]
    }
   ],
   "source": [
    "\"\"\"Question 5.\n",
    "The parent_directory function returns the name of the directory that's located just above the current working directory. \n",
    "Remember that '..' is a relative path alias that means \"go up to the parent directory\". Fill in the gaps to complete this function.\"\"\"\n",
    "\n",
    "import os\n",
    "def parent_directory():\n",
    "    # Create a relative path to the parent\n",
    "    # of the current working directory\n",
    "    relative_parent = os.path.abspath('..')\n",
    "    \n",
    "    # Return the absolute path of the parent directory\n",
    "    return relative_parent\n",
    "\n",
    "print(parent_directory())"
   ]
  },
  {
   "cell_type": "code",
   "execution_count": null,
   "id": "75753f2f-3c77-436f-879e-a3b4aa4cf683",
   "metadata": {},
   "outputs": [],
   "source": []
  }
 ],
 "metadata": {
  "kernelspec": {
   "display_name": "Python 3 (ipykernel)",
   "language": "python",
   "name": "python3"
  },
  "language_info": {
   "codemirror_mode": {
    "name": "ipython",
    "version": 3
   },
   "file_extension": ".py",
   "mimetype": "text/x-python",
   "name": "python",
   "nbconvert_exporter": "python",
   "pygments_lexer": "ipython3",
   "version": "3.10.4"
  },
  "widgets": {
   "application/vnd.jupyter.widget-state+json": {
    "state": {},
    "version_major": 2,
    "version_minor": 0
   }
  }
 },
 "nbformat": 4,
 "nbformat_minor": 5
}
