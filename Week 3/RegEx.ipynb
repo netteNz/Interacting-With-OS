{
 "cells": [
  {
   "cell_type": "markdown",
   "id": "ed6f8336-7267-4ed2-981b-6ae332bfe3c8",
   "metadata": {},
   "source": [
    "# What are regular expressions?\n",
    "\n",
    "### Regular Expressions\n",
    "- Allows us to search a text for strings matching a specific pattern"
   ]
  },
  {
   "cell_type": "code",
   "execution_count": 1,
   "id": "4887731b-e53d-4270-adda-9fa4fc6b409f",
   "metadata": {},
   "outputs": [
    {
     "name": "stdout",
     "output_type": "stream",
     "text": [
      "12345\n"
     ]
    }
   ],
   "source": [
    "import re\n",
    "\n",
    "log = \"July 31 07:51:48 mycomputer bad_process[12345]: ERROR Performing package upgrade\"\n",
    "regex = r\"\\[(\\d+)]\"\n",
    "result = re.search(regex, log)\n",
    "print(result[1])"
   ]
  },
  {
   "cell_type": "code",
   "execution_count": null,
   "id": "b17cbc36-cac6-41fd-9e2d-384762ad4b26",
   "metadata": {},
   "outputs": [],
   "source": []
  }
 ],
 "metadata": {
  "kernelspec": {
   "display_name": "Python 3 (ipykernel)",
   "language": "python",
   "name": "python3"
  },
  "language_info": {
   "codemirror_mode": {
    "name": "ipython",
    "version": 3
   },
   "file_extension": ".py",
   "mimetype": "text/x-python",
   "name": "python",
   "nbconvert_exporter": "python",
   "pygments_lexer": "ipython3",
   "version": "3.10.4"
  },
  "widgets": {
   "application/vnd.jupyter.widget-state+json": {
    "state": {},
    "version_major": 2,
    "version_minor": 0
   }
  }
 },
 "nbformat": 4,
 "nbformat_minor": 5
}
