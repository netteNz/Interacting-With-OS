{
 "cells": [
  {
   "cell_type": "markdown",
   "id": "675ae2f1-b7e4-4ea3-831e-5fea8bf8b848",
   "metadata": {},
   "source": [
    "## Getting Familiar with the Operating System\n",
    "\n",
    "Python since it's cross platform, we can use the same python code to get to our goal on any operating system - wether the goal is opening files, processing text, or managing running processes."
   ]
  },
  {
   "cell_type": "code",
   "execution_count": 2,
   "id": "bbc8c153-a85c-4cda-9a40-ce147f728fa4",
   "metadata": {},
   "outputs": [],
   "source": [
    "import pandas\n",
    "\n",
    "visitors = [12345, 6424, 9345, 8464, 2345]\n",
    "errors = [23, 45, 33, 45, 76]\n",
    "df = pandas.DataFrame({\"visitors\": visitors, \"errors\": errors}, index=[\"Mon\", \"Tues\", \"Wed\", \"Thu\", \"Fri\"])"
   ]
  },
  {
   "cell_type": "code",
   "execution_count": 3,
   "id": "74a63c2d-2245-4280-b34e-3b61a12f1bbc",
   "metadata": {},
   "outputs": [
    {
     "name": "stdout",
     "output_type": "stream",
     "text": [
      "      visitors  errors\n",
      "Mon      12345      23\n",
      "Tues      6424      45\n",
      "Wed       9345      33\n",
      "Thu       8464      45\n",
      "Fri       2345      76\n"
     ]
    }
   ],
   "source": [
    "print(df)"
   ]
  },
  {
   "cell_type": "markdown",
   "id": "f257867d-edb4-4853-ae75-e202dc87fd5c",
   "metadata": {},
   "source": [
    "### Making Python File/Script Executable in Linux\n",
    "```python\n",
    "#!/usr/bin/env python3\n",
    "print(\"Hello, World\")\n",
    "```\n",
    "- Header of the script.\n",
    "- make it executable via the *chmod* command\n",
    "- **chmod +x script_name**\n",
    "- **./script_name**"
   ]
  },
  {
   "cell_type": "code",
   "execution_count": 4,
   "id": "9d8f9817-7953-425c-b984-db64b5d1aa4d",
   "metadata": {},
   "outputs": [
    {
     "name": "stdout",
     "output_type": "stream",
     "text": [
      "usage(total=3000574668800, used=1313340293120, free=1687234375680)\n"
     ]
    },
    {
     "data": {
      "text/plain": [
       "56.23037457537308"
      ]
     },
     "execution_count": 4,
     "metadata": {},
     "output_type": "execute_result"
    }
   ],
   "source": [
    "import shutil\n",
    "du = shutil.disk_usage(\"/\")\n",
    "print(du)\n",
    "\n",
    "du.free/du.total * 100"
   ]
  },
  {
   "cell_type": "code",
   "execution_count": 6,
   "id": "57d44ae7-18d1-4c87-8caa-72f5f6feb7e3",
   "metadata": {},
   "outputs": [
    {
     "data": {
      "text/plain": [
       "22.4"
      ]
     },
     "execution_count": 6,
     "metadata": {},
     "output_type": "execute_result"
    }
   ],
   "source": [
    "import psutil\n",
    "psutil.cpu_percent(0.1)"
   ]
  },
  {
   "cell_type": "code",
   "execution_count": null,
   "id": "05b999de-4d3d-44a0-a122-feca73081dd5",
   "metadata": {},
   "outputs": [],
   "source": []
  },
  {
   "cell_type": "code",
   "execution_count": null,
   "id": "e154a620-6464-40f3-8575-b1e5967eedf1",
   "metadata": {},
   "outputs": [],
   "source": []
  }
 ],
 "metadata": {
  "kernelspec": {
   "display_name": "Python 3 (ipykernel)",
   "language": "python",
   "name": "python3"
  },
  "language_info": {
   "codemirror_mode": {
    "name": "ipython",
    "version": 3
   },
   "file_extension": ".py",
   "mimetype": "text/x-python",
   "name": "python",
   "nbconvert_exporter": "python",
   "pygments_lexer": "ipython3",
   "version": "3.10.4"
  },
  "widgets": {
   "application/vnd.jupyter.widget-state+json": {
    "state": {},
    "version_major": 2,
    "version_minor": 0
   }
  }
 },
 "nbformat": 4,
 "nbformat_minor": 5
}
